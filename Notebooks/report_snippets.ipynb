{
 "cells": [
  {
   "cell_type": "code",
   "execution_count": 1,
   "id": "132f3c6e-281f-41b5-a3b8-ced9049b1d25",
   "metadata": {},
   "outputs": [],
   "source": [
    "import re\n",
    "import torch\n",
    "from transformers import AutoTokenizer, AutoModelForCausalLM\n",
    "from huggingface_hub import login\n",
    "from transformers import set_seed\n",
    "\n",
    "set_seed(42)"
   ]
  },
  {
   "cell_type": "code",
   "execution_count": 2,
   "id": "6b27ec61-45d5-4ab5-816b-0d9a3cc0004e",
   "metadata": {},
   "outputs": [],
   "source": [
    "login(token='XXXXX') # huggingface token"
   ]
  },
  {
   "cell_type": "code",
   "execution_count": 3,
   "id": "f9bfa6d2-3d6a-40ab-95fb-94f0324d9fd6",
   "metadata": {},
   "outputs": [],
   "source": [
    "model_id = \"deepseek-ai/DeepSeek-R1-Distill-Llama-8B\"\n",
    "dtype = torch.float16"
   ]
  },
  {
   "cell_type": "code",
   "execution_count": null,
   "id": "a396e338-0ac8-4c9d-bfb8-39cf7204bcc8",
   "metadata": {},
   "outputs": [],
   "source": [
    "tokenizer = AutoTokenizer.from_pretrained(model_id,token=True)\n",
    "tokenizer.pad_token = tokenizer.eos_token\n",
    "tokenizer.pad_token_id = tokenizer.eos_token_id\n",
    "\n",
    "model = AutoModelForCausalLM.from_pretrained(\n",
    "    model_id,\n",
    "    device_map=\"cuda\",\n",
    "    temperature=0.6,\n",
    "    top_p=0.6,\n",
    "    torch_dtype=dtype,\n",
    "    token=True,\n",
    "    do_sample=True\n",
    ")\n",
    "model.config.pad_token_id = tokenizer.pad_token_id"
   ]
  },
  {
   "cell_type": "code",
   "execution_count": 17,
   "id": "8dd6fcc3-b487-4584-b2e4-852927b94849",
   "metadata": {},
   "outputs": [],
   "source": [
    "# generate impression snippets given a positive pneumonia prediction and using Grad-CAM-derived localisations as input\n",
    "\n",
    "def generate_report(locs):\n",
    "    chat = [\n",
    "          {\"role\": \"user\", \n",
    "           \"content\": f'''\n",
    "           ### ROLE ###\n",
    "           YOU ARE A HIGHLY ACCLAIMED RADIOLOGIST BASED IN THE UNITED KINGDOM (UK) WITH DECADES OF EXPERIENCE IN GENERATING CONCISE, OBJECTIVE SUMMARY SNIPPETS IN THE STYLE OF UK CHEST X-RAY REPORTS.\n",
    "           \n",
    "           ### TASK OVERVIEW ###\n",
    "           GIVEN THE FOLLOWING INPUT DATA:\n",
    "           - LOCALISATION: {locs}\n",
    "           - RADIOGRAPHIC FINDING: OPACITY\n",
    "           - DIAGNOSIS: PNEUMONIA\n",
    "\n",
    "           GENERATE A ONE-SENTENCE RADIOLOGY REPORT SNIPPET THAT SUMMARISES THESE FINDINGS. THE OUTPUT SHOULD USE CLEAR, STANDARD UK TERMINOLOGY AND FOLLOW A FORMAT SIMILAR TO THE IMPRESSION SECTION OF A RADIOLOGY REPORT. \n",
    "\n",
    "           ### OUTPUT FORMAT ###\n",
    "           GENERATE THE OUTPUT ACCORDING TO THE FOLLOWING XML FORMAT: <REPORT>REPORT TEXT</REPORT>\n",
    "\n",
    "           INPUT EXAMPLE 1:\n",
    "           - LOCALISATION: MIDDLE & LOWER RIGHT ZONES\n",
    "           - RADIOGRAPHIC FINDING: OPACITY\n",
    "           - DIAGNOSIS: PNEUMONIA\n",
    "            \n",
    "           EXAMPLE OUTPUT 1:\n",
    "           <REPORT>\"Middle to lower right zone opacity suggestive of pneumonia.\"</REPORT>\n",
    "\n",
    "           INPUT EXAMPLE 2:\n",
    "           - LOCALISATION: UPPER LEFT ZONE\n",
    "           - RADIOGRAPHIC FINDING: OPACITY\n",
    "           - DIAGNOSIS: PNEUMONIA\n",
    "\n",
    "           EXAMPLE OUTPUT 2:\n",
    "           <REPORT>\"Upper left zone opacity consistent with pneumonia.\"</REPORT>\n",
    "\n",
    "           INPUT EXAMPLE 3:\n",
    "           - LOCALISATION: UPPER RIGHT & MIDDLE LEFT ZONES\n",
    "           - RADIOGRAPHIC FINDING: OPACITY\n",
    "           - DIAGNOSIS: PNEUMONIA\n",
    "\n",
    "           EXAMPLE OUTPUT 3:\n",
    "           <REPORT>\"Upper right and middle left zone opacities in keeping with pneumonia.\"</REPORT>\n",
    "\n",
    "           ### FINAL NOTES ###\n",
    "           - IF THE AFFECTED ZONES ARE SYMMETRICAL IN BOTH LUNGS, GROUP THEM TOGETHER WITH THE TERM 'BILATERAL'. FOR EXAMPLE, MIDDLE LEFT & RIGHT ZONE OPACITIES -> BILATERAL MID ZONE OPACITIES.\n",
    "           - OTHERWISE, IF THE AFFECTED ZONES ARE ANATOMICALLY ADJACENT, GROUP THEM TOGETHER (E.G., MIDDLE & LOWER RIGHT ZONE OPACITY -> MIDDLE TO LOWER RIGHT ZONE OPACITY, UPPER & MIDDLE RIGHT ZONE OPACITY -> UPPER TO MID RIGHT ZONE OPACITY).\n",
    "           - ENSURE THE OUTPUT FORMAT IS CONSISTENT AND EXACTLY MATCHES THE EXAMPLES ABOVE. ENSURE YOUR RESPONSE IS SUCCINCT, OBJECTIVE, AND CLINICALLY ACTIONABLE.'''\n",
    "          }\n",
    "    ]\n",
    "    \n",
    "    prompt = tokenizer.apply_chat_template(chat, tokenize=False, add_generation_prompt=True)\n",
    "    \n",
    "    inputs = tokenizer(prompt, add_special_tokens=False, return_tensors=\"pt\", padding=True, truncation=True)\n",
    "    inputs = {key: val.to(model.device) for key, val in inputs.items()}\n",
    "    outputs = model.generate(**inputs, max_new_tokens=4096, do_sample=False)\n",
    "    \n",
    "    data = tokenizer.decode(outputs[0])\n",
    "    response = data.split('</think>')[-1].replace('<｜end▁of▁sentence｜>', '')\n",
    "    \n",
    "    return response"
   ]
  },
  {
   "cell_type": "code",
   "execution_count": null,
   "id": "59d1a290-cc8c-45f3-ac1d-bfad471f4078",
   "metadata": {},
   "outputs": [],
   "source": [
    "# example\n",
    "\n",
    "response = generate_report('Upper and mid right zone')\n",
    "re.findall(r'<REPORT>(.*?)</REPORT>', response)[-1]"
   ]
  }
 ],
 "metadata": {
  "kernelspec": {
   "display_name": "Python 3 (ipykernel)",
   "language": "python",
   "name": "python3"
  },
  "language_info": {
   "codemirror_mode": {
    "name": "ipython",
    "version": 3
   },
   "file_extension": ".py",
   "mimetype": "text/x-python",
   "name": "python",
   "nbconvert_exporter": "python",
   "pygments_lexer": "ipython3",
   "version": "3.9.21"
  }
 },
 "nbformat": 4,
 "nbformat_minor": 5
}
