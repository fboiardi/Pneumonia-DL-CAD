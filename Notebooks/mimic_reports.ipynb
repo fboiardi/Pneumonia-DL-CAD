{
 "cells": [
  {
   "cell_type": "code",
   "execution_count": 1,
   "id": "501da00e-8d5b-4c03-8d83-4968ec004e53",
   "metadata": {},
   "outputs": [],
   "source": [
    "import pandas as pd, numpy as np\n",
    "import json, re, os, torch\n",
    "from transformers import set_seed, AutoTokenizer, AutoModelForCausalLM\n",
    "from huggingface_hub import login\n",
    "\n",
    "set_seed(42)"
   ]
  },
  {
   "cell_type": "code",
   "execution_count": 9,
   "id": "60d484bb-5fc7-4312-a660-facc9710ab62",
   "metadata": {},
   "outputs": [],
   "source": [
    "login(token='XXXXX') # huggingface token"
   ]
  },
  {
   "cell_type": "code",
   "execution_count": 11,
   "id": "9aaccb25-36d7-4d4f-b3fa-300390bd8044",
   "metadata": {},
   "outputs": [],
   "source": [
    "model_id = \"deepseek-ai/DeepSeek-R1-Distill-Llama-8B\"\n",
    "dtype = torch.float16"
   ]
  },
  {
   "cell_type": "code",
   "execution_count": null,
   "id": "453cbf72-8fa0-40da-b982-d984b038a063",
   "metadata": {},
   "outputs": [],
   "source": [
    "tokenizer = AutoTokenizer.from_pretrained(model_id,token=True)\n",
    "tokenizer.pad_token = tokenizer.eos_token\n",
    "tokenizer.pad_token_id = tokenizer.eos_token_id\n",
    "\n",
    "model = AutoModelForCausalLM.from_pretrained(\n",
    "    model_id,\n",
    "    device_map=\"cuda\",\n",
    "    temperature=0.6,\n",
    "    top_p=0.6,\n",
    "    torch_dtype=dtype,\n",
    "    token=True,\n",
    ")\n",
    "model.config.pad_token_id = tokenizer.pad_token_id"
   ]
  },
  {
   "cell_type": "markdown",
   "id": "642f8a27",
   "metadata": {},
   "source": [
    "# Radiology Reports"
   ]
  },
  {
   "cell_type": "code",
   "execution_count": 48,
   "id": "8f220380-43d1-4edb-88d1-bb7beefbe8c0",
   "metadata": {},
   "outputs": [],
   "source": [
    "# parsing radiology report text from JSON files, focusing on findings where available\n",
    "\n",
    "path = '/Data/physionet.org/files/mimic-cxr-jpg/2.0.0/files/json/files_JSON/'\n",
    "files = os.listdir(path)\n",
    "  \n",
    "preferred = ['FINDING', 'IMPRESSION', 'CONCLUSION']\n",
    "fallback = ['HISTORY', 'INDICATION', 'COMPARISON', 'EXAMINATION-UNMAPPED', 'REASON FOR EXAM', 'REFERENCE EXAM']\n",
    "\n",
    "results = []\n",
    "for file in files:\n",
    "    with open(os.path.join(path, file), 'r') as f:\n",
    "        data = json.load(f)\n",
    "\n",
    "    for document in data.get('documents', []):\n",
    "        image_ids = document.get('infons', {}).get('image_identifier', [])\n",
    "        passages = document.get('passages', [])\n",
    "\n",
    "        # check if any passage belongs to preferred sections\n",
    "        has_preferred = any(any(pref in passage.get('infons', {}).get('section_title_1', '').upper() for pref in preferred) for passage in passages)\n",
    "\n",
    "        report_text = ''\n",
    "        if has_preferred:\n",
    "            for passage in passages:\n",
    "                section_title = passage.get('infons', {}).get('section_title_1', '').upper()\n",
    "                if any(pref in section_title for pref in preferred):\n",
    "                    report_text += f' {section_title}: {re.sub(r\" {2,}\", \" \", passage.get(\"text\", \"N/A\"))}'\n",
    "                elif section_title == 'UNMAPPED-CATEGORY':\n",
    "                    report_text += ' ' + re.sub(r\" {2,}\", \" \", passage.get(\"text\", \"N/A\"))\n",
    "\n",
    "        else:\n",
    "            for passage in passages:\n",
    "                section_title = passage.get('infons', {}).get('section_title_1', '').upper()\n",
    "                if any(fb in section_title for fb in fallback):\n",
    "                    report_text += f' {section_title}: {re.sub(r\" {2,}\", \" \", passage.get(\"text\", \"N/A\"))}'\n",
    "                elif section_title == 'UNMAPPED-CATEGORY':\n",
    "                    report_text += ' ' + re.sub(r\" {2,}\", \" \", passage.get(\"text\", \"N/A\"))\n",
    "        \n",
    "        results.append({\n",
    "            'image_ids': ''.join(image_ids).split(' ; '),\n",
    "            'text': report_text[1:]})"
   ]
  },
  {
   "cell_type": "code",
   "execution_count": null,
   "id": "77bb9dc5-c0b5-4d2b-89e4-b6e764336e3c",
   "metadata": {},
   "outputs": [],
   "source": [
    "results"
   ]
  },
  {
   "cell_type": "code",
   "execution_count": null,
   "id": "c099be2f-fd6d-4a3a-9142-3d3b9bcce5c6",
   "metadata": {
    "scrolled": true
   },
   "outputs": [],
   "source": [
    "mimic = pd.read_csv('/Data/physionet.org/files/mimic-cxr-jpg/2.0.0/mimic-cxr-pneumonia-full.csv')\n",
    "mimic['dicom_id'] = mimic.Path.apply(lambda path: os.path.basename(path)[:-4])\n",
    "\n",
    "mimic"
   ]
  },
  {
   "cell_type": "code",
   "execution_count": null,
   "id": "bc7e32d5-6723-40e6-84f3-671801a12219",
   "metadata": {},
   "outputs": [],
   "source": [
    "mimic['Report'] = ['N/A'] * len(mimic)\n",
    "\n",
    "for entry in results:\n",
    "    for image_id in entry['image_ids']:\n",
    "        mimic.loc[mimic['dicom_id'] == image_id, 'Report'] = entry['text']\n",
    "\n",
    "mimic\n",
    "#mimic.to_csv('/Data/physionet.org/files/mimic-cxr-jpg/2.0.0/mimic-cxr-pneumonia-full-wreports.csv', index=False)"
   ]
  },
  {
   "cell_type": "code",
   "execution_count": null,
   "id": "eecc3a33-021d-4b80-ba23-ed01a4eac930",
   "metadata": {},
   "outputs": [],
   "source": [
    "mimic = pd.read_csv('/Data/physionet.org/files/mimic-cxr-jpg/2.0.0/mimic-cxr-pneumonia-full-wreports.csv')\n",
    "\n",
    "mimic.fillna({'Report': 'No report available'}, inplace=True)\n",
    "mimic"
   ]
  },
  {
   "cell_type": "code",
   "execution_count": null,
   "id": "1bc4b970-8db7-430e-864a-0a27002f1ae8",
   "metadata": {},
   "outputs": [],
   "source": [
    "# filtering reports for pneumonia-related terms\n",
    "\n",
    "conditions = (mimic.Report.str.contains('pneumonia', case=False, regex=False)) | (mimic.Report.str.contains('PNA', case=False, regex=False)) | (mimic.Report.str.contains('HAP', case=True, regex=False)) | (mimic.Report.str.contains('CAP', case=True, regex=False)) | (mimic.Report.str.contains('UIP', case=True, regex=False)) | (mimic.Report.str.contains('AIP', case=True, regex=False)) | (mimic.Report.str.contains('DIP', case=True, regex=False)) | (mimic.Report.str.contains('BOOP', case=True, regex=False)) | (mimic.Report.str.contains('VAP', case=True, regex=False)) | (mimic.Report.str.contains('infectio', case=False, regex=False))\n",
    "\n",
    "mimic['Pneumonia_Relevant'] = ['N/A'] * len(mimic)\n",
    "mimic.loc[conditions, 'Pneumonia_Relevant'] = 1\n",
    "mimic.loc[~conditions, 'Pneumonia_Relevant'] = 0\n",
    "\n",
    "mimic"
   ]
  },
  {
   "cell_type": "code",
   "execution_count": null,
   "id": "0009da84-2a23-4e36-8b51-a558ad2fbee0",
   "metadata": {},
   "outputs": [],
   "source": [
    "mimic[mimic['Pneumonia_Relevant'] == 1]"
   ]
  },
  {
   "cell_type": "markdown",
   "id": "39e5a97c",
   "metadata": {},
   "source": [
    "# LLM Prompt"
   ]
  },
  {
   "cell_type": "code",
   "execution_count": 16,
   "id": "ffcba189-1c86-4c32-ad93-1519f61888ad",
   "metadata": {},
   "outputs": [],
   "source": [
    "# prompt to classify pneumonia status and extract positional info from report text\n",
    "\n",
    "def analyse_mimic_report(report):\n",
    "    chat = [\n",
    "          {\"role\": \"user\", \n",
    "           \"content\": f'''\n",
    "           ### ROLE ###\n",
    "           YOU ARE A HIGHLY ACCLAIMED RADIOLOGIST BASED IN THE UNITED KINGDOM WITH DECADES OF EXPERIENCE IN ANALYSING ELECTRONIC HEALTH RECORDS (EHRs) AND RADIOLOGICAL REPORTS. YOUR TASK IS TO ANALYSE AN EHR REPORT AND PERFORM A SERIES OF INSTRUCTIONS BASED ON THE DIAGNOSIS OF PNEUMONIA.\n",
    "           \n",
    "           ### TASK OVERVIEW ###\n",
    "            YOUR TASK IS TO ANALYSE THE ENTIRE RADIOLOGICAL TEXT PROVIDED AND PERFORM THESE INSTRUCTIONS:\n",
    "            1. DETERMINE WHETHER THE PATIENT HAS ACTIVE PNEUMONIA AT THE TIME OF THE STUDY:\n",
    "               - CLASSIFY THE REPORT AS:\n",
    "                 - \"1\" FOR PNEUMONIA-POSITIVE (PATIENT CURRENTLY HAS PNEUMONIA, OR NO OTHER CONDITIONS ARE POSSIBLE).\n",
    "                 - \"0\" FOR PNEUMONIA-NEGATIVE (CLEARLY STATES NO PNEUMONIA OR NO INFECTION).\n",
    "                 - \"-1\" FOR PNEUMONIA-UNCERTAIN (PNEUMONIA MENTIONED WITH UNCERTAINTY, AMBIGUITY, OR POSSIBILITY).\n",
    "               - IMPORTANTLY, EVEN IF THE REPORT EXPLICITLY STATES PNEUMONIA, IT DOES NOT AUTOMATICALLY MEAN THE CLASSIFICATION IS PNEUMONIA-POSITIVE; YOU MUST CONSIDER THE CONTEXTUAL INFORMATION TO UNDERSTAND WHETHER THE MENTION IS POSITIVE, NEGATIVE, OR UNCERTAIN.\n",
    "            \n",
    "            2. EXTRACT THE PNEUMONIA LOCATION STRING(S):\n",
    "                - IF CLASSIFIED AS \"1\" (PNEUMONIA-POSITIVE) OR \"-1\" (PNEUMONIA-UNCERTAIN), EXTRACT THE POSITIONAL INFORMATION OF THE ACTIVE PNEUMONIA AS A LIST IF PROVIDED (E.G., [\"UPPER LOBES BILATERALLY\", \"RIGHT MIDDLE LOBE\"]) EXACTLY AS WRITTEN IN THE TEXT.\n",
    "                 - OUTPUT \"None\" IF NO LOCATION IS MENTIONED.\n",
    "                - IF CLASSIFIED AS \"0\", OUTPUT \"None\" FOR THE LOCATION, REGARDLESS OF WHETHER A LOCATION IS MENTIONED.\n",
    "            \n",
    "            ### PNEUMONIA-POSITIVE (\"1\") EXAMPLES ###\n",
    "            - Patient shows signs of pneumonia.\n",
    "            - There is evidence of pneumonia.\n",
    "            - Pneumonia has worsened since the prior radiograph.\n",
    "            - Pneumonia has almost completely resolved, but is still present.\n",
    "            - Pneumonia is healing, but still present.\n",
    "            - Pre-existing pneumonia has improved.\n",
    "            - Improved, but not yet resolved, pneumonia.\n",
    "            - There has been partial clearing of the pneumonia.\n",
    "\n",
    "            ### PNEUMONIA-NEGATIVE (\"0\") EXAMPLES ###\n",
    "            - No pneumonia.\n",
    "            - No definite pneumonia.\n",
    "            - No evidence of pneumonia.\n",
    "            - No evidence to suggest infection.\n",
    "            - Interval resolution of patient's pneumonia.\n",
    "            - Pneumonia has resolved.\n",
    "            - Pneumonia is mentioned as having resolved.\n",
    "            - Resolution of pneumonia.\n",
    "            - There has been complete clearing of the pneumonia.\n",
    "\n",
    "            ### PNEUMONIA-UNCERTAIN (\"-1\") EXAMPLES ###\n",
    "            - <symptom> may reflect <other condition>, less likely pneumonia.\n",
    "            - <symptom> may reflect <other condition>, though infection is not excluded in the correct clinical setting.\n",
    "            - <symptom> more typical of <other condition> than pneumonia.\n",
    "            - <symptom> could reflect <other condition> or secondary process such as pneumonia.\n",
    "            - <other condition> more likely than pneumonia.\n",
    "            - Differential includes pneumonia.\n",
    "            - Could be <other condition>, but should be followed closely to exclude pneumonia.\n",
    "            - Pneumonia is difficult to exclude.\n",
    "            - Pneumonia could also be considered.\n",
    "\n",
    "            ### OUTPUT FORMAT ###\n",
    "            GENERATE THE OUTPUT ACCORDING TO THE FOLLOWING XML FORMAT: OPENING TAG, RESULT, CLOSING TAG.\n",
    "\n",
    "            INPUT EXAMPLE 1:\n",
    "            \"Patient shows signs of pneumonia localized to the right lower lobe.\"\n",
    "            \n",
    "            EXPECTED OUTPUT EXAMPLE 1:\n",
    "            <EVALUATION>1</EVALUATION>\n",
    "            <LOCATION>[\"right lower lobe\"]</LOCATION>\n",
    "\n",
    "            INPUT EXAMPLE 2:\n",
    "            \"The known pre-existing left upper lobe pneumonia has substantially improved.\"\n",
    "\n",
    "            EXPECTED OUTPUT EXAMPLE 2:\n",
    "            <EVALUATION>1</EVALUATION>\n",
    "            <LOCATION>[\"left upper lobe\"]</LOCATION>\n",
    "\n",
    "            INPUT EXAMPLE 3:\n",
    "            \"No vascular congestion or acute focal pneumonia.\"\n",
    "\n",
    "            EXPECTED OUTPUT EXAMPLE 3:\n",
    "            <EVALUATION>0</EVALUATION>\n",
    "            <LOCATION>None</LOCATION>\n",
    "\n",
    "            INPUT EXAMPLE 4:\n",
    "            \"Resolution of left lower lobe pneumonia.\"\n",
    "\n",
    "            EXPECTED OUTPUT EXAMPLE 4:\n",
    "            <EVALUATION>0</EVALUATION>\n",
    "            <LOCATION>None</LOCATION>\n",
    "\n",
    "            INPUT EXAMPLE 5:\n",
    "            \"Subtle increase in lower lung opacities may reflect atelectasis, less likely early pneumonia.\"\n",
    "\n",
    "            EXPECTED OUTPUT EXAMPLE 5:\n",
    "            <EVALUATION>-1</EVALUATION>\n",
    "            <LOCATION>[\"lower lung\"]</LOCATION>\n",
    "\n",
    "            INPUT EXAMPLE 6:\n",
    "            \"Retrocardiac patchy opacity may reflect atelectasis though infection is not excluded in the correct clinical setting.\"\n",
    "\n",
    "            EXPECTED OUTPUT EXAMPLE 6:\n",
    "            <EVALUATION>-1</EVALUATION>\n",
    "            <LOCATION>[\"Retrocardiac\"]</LOCATION>\n",
    "\n",
    "            ### WHAT NOT TO DO ###\n",
    "            - DO NOT ASSUME OR INTERPRET ANY INFORMATION NOT EXPLICITLY PRESENT IN THE TEXT.\n",
    "            - DO NOT MODIFY THE STRING OF THE LOCATION; IT HAS TO BE THE SAME CHARACTERS.\n",
    "            - DO NOT INCLUDE FURTHER INFORMATION OTHER THAN THE POSITIONAL INFORMATION FOR THE LOCATION.\n",
    "            - DO NOT OUTPUT LOCATIONS THAT ARE NOT EXPLICITLY MENTIONED IN THE TEXT IN REFERENCE TO PNEUMONIA.\n",
    "            - DO NOT INCLUDE INFORMATION ABOUT THE PNEUMONIA OUTSIDE OF ITS POSITIONAL INFORMATION.\n",
    "            - DO NOT PRODUCE OUTPUT WITHOUT STRICTLY FOLLOWING THE SPECIFIED XML FORMAT: OPENING TAG, RESULT, CLOSING TAG.\n",
    "            \n",
    "            ### FINAL NOTE ###\n",
    "            ENSURE THE OUTPUT FORMAT IS CONSISTENT AND EXACTLY MATCHES THE EXAMPLES ABOVE. DO NOT OUTPUT ANY TEXT OTHER THAN THE PROVIDED FORMATTED OUTPUT.\n",
    "\n",
    "            ### INPUT TEXT ###\n",
    "            Here is the radiological text to classify:\n",
    "            {report}'''\n",
    "          }\n",
    "    ]\n",
    "    \n",
    "    prompt = tokenizer.apply_chat_template(chat, tokenize=False, add_generation_prompt=True)\n",
    "\n",
    "    inputs = tokenizer(prompt, add_special_tokens=False, return_tensors=\"pt\", padding=True, truncation=True)\n",
    "    inputs = {key: val.to(model.device) for key, val in inputs.items()}\n",
    "    outputs = model.generate(**inputs, max_new_tokens=4096, do_sample=False)\n",
    "    \n",
    "    data = tokenizer.decode(outputs[0])\n",
    "    response = data.split('</think>')[-1].replace('<｜end▁of▁sentence｜>', '')\n",
    "    \n",
    "    return response\n",
    "\n",
    "def extract_pneu_info(mimic_row):\n",
    "    print(f'Report #{mimic_row.name + 1}')\n",
    "    if mimic_row['Pneumonia_Relevant'] == 1:\n",
    "        return analyse_mimic_report(mimic_row['Report'])\n",
    "    return 'N/A'"
   ]
  },
  {
   "cell_type": "code",
   "execution_count": null,
   "id": "2c9763f9-9d20-462b-aaea-6969a5df93ae",
   "metadata": {},
   "outputs": [],
   "source": [
    "# 2 GPUs for processing\n",
    "\n",
    "mid = len(mimic)//2\n",
    "mimic[:mid].to_csv('/Data/physionet.org/files/mimic-cxr-jpg/2.0.0/mimic-cxr-pneumonia-full-wreports_0.csv', index=False)\n",
    "mimic[mid:].to_csv('/Data/physionet.org/files/mimic-cxr-jpg/2.0.0/mimic-cxr-pneumonia-full-wreports_1.csv', index=False)"
   ]
  },
  {
   "cell_type": "code",
   "execution_count": null,
   "id": "bbe89754",
   "metadata": {},
   "outputs": [],
   "source": [
    "# extract sentences mentioning pneumonia-related terms for simpler human annotation\n",
    "\n",
    "def extract_pneumonia_sentences(report):\n",
    "    # split report into sentences\n",
    "    sentences = re.split(r'(?<=[.!?])\\s*', report)\n",
    "    \n",
    "    # keyword, case sensitive\n",
    "    keywords = [\n",
    "        ('pneumonia', False),\n",
    "        ('PNA', False),\n",
    "        ('HAP', True),\n",
    "        ('CAP', True),\n",
    "        ('UIP', True),\n",
    "        ('AIP', True),\n",
    "        ('DIP', True),\n",
    "        ('BOOP', True),\n",
    "        ('VAP', True),\n",
    "        ('infectio', False)\n",
    "    ]\n",
    "    \n",
    "    matching_sentences = []\n",
    "    for sentence in sentences:\n",
    "        for kw, case_sensitive in keywords:\n",
    "            if case_sensitive:\n",
    "                if kw in sentence:\n",
    "                    matching_sentences.append(sentence)\n",
    "                    break\n",
    "            else:\n",
    "                if kw.lower() in sentence.lower():\n",
    "                    matching_sentences.append(sentence)\n",
    "                    break\n",
    "    \n",
    "    return ' '.join(matching_sentences) if matching_sentences else 'N/A'"
   ]
  },
  {
   "cell_type": "code",
   "execution_count": null,
   "id": "0c28aee7-00e8-4426-aa1e-87bf517548ca",
   "metadata": {},
   "outputs": [],
   "source": [
    "#mimic['Pneumonia_Sentences'] = mimic['Report'].apply(extract_pneumonia_sentences)\n",
    "#mimic['Pneumonia_Sentences']"
   ]
  },
  {
   "cell_type": "markdown",
   "id": "75a961fd-69ee-4d17-8b7b-c50cee776355",
   "metadata": {},
   "source": [
    "# Post Processing"
   ]
  },
  {
   "cell_type": "code",
   "execution_count": null,
   "id": "3cbe1694-6526-423b-9269-ab7bbb6f03d5",
   "metadata": {},
   "outputs": [],
   "source": [
    "df_0 = pd.read_csv('/Data/physionet.org/files/mimic-cxr-jpg/2.0.0/mimic-cxr-pneumonia-full-wreports_0_llm.csv')\n",
    "df_1 = pd.read_csv('/Data/physionet.org/files/mimic-cxr-jpg/2.0.0/mimic-cxr-pneumonia-full-wreports_1_llm.csv')\n",
    "\n",
    "mimic = pd.concat([df_0, df_1], ignore_index=True, sort=False)\n",
    "mimic"
   ]
  },
  {
   "cell_type": "code",
   "execution_count": null,
   "id": "91e67ee6-084e-41f2-ae51-680308293abe",
   "metadata": {},
   "outputs": [],
   "source": [
    "# parsing pneumonia class from LLM responses\n",
    "\n",
    "mimic['LLM_class'] = mimic.LLM_Pneumonia.apply(lambda response : int(re.findall(r'EVALUATION>(.*?)</EVALUATION>', response.upper().replace(' ', ''))[-1]) if isinstance(response,str) else np.nan)\n",
    "mimic"
   ]
  },
  {
   "cell_type": "code",
   "execution_count": null,
   "id": "cebcd60e-0766-4ca0-a703-707b3a47718d",
   "metadata": {},
   "outputs": [],
   "source": [
    "mimic.to_csv('/Data/physionet.org/files/mimic-cxr-jpg/2.0.0/mimic-cxr-pneumonia-full-wreports_llm_complete.csv', index=False)"
   ]
  },
  {
   "cell_type": "code",
   "execution_count": null,
   "id": "7cda0822-7cc7-4003-bbae-46263d597a5d",
   "metadata": {},
   "outputs": [],
   "source": [
    "# sample of false-positive rule-based NLP labels for pneumonia in MIMIC-CXR\n",
    "# presumably, positive weight is given to 'suggest pneumonia' in phrases like 'no findings to suggest pneumonia'\n",
    "\n",
    "nlp_positive = mimic[mimic.Pneumonia == 1]\n",
    "nlp_positive[(nlp_positive.Report.str.contains('no findings to suggest pneumonia', case=False, regex=False)) | (nlp_positive.Report.str.contains('no findings to suggest infection', case=False, regex=False)) | (nlp_positive.Report.str.contains('no pneumonia', case=False, regex=False)) | (nlp_positive.Report.str.contains('no evidence of pneumonia', case=False, regex=False))]"
   ]
  }
 ],
 "metadata": {
  "kernelspec": {
   "display_name": "Python 3 (ipykernel)",
   "language": "python",
   "name": "python3"
  },
  "language_info": {
   "codemirror_mode": {
    "name": "ipython",
    "version": 3
   },
   "file_extension": ".py",
   "mimetype": "text/x-python",
   "name": "python",
   "nbconvert_exporter": "python",
   "pygments_lexer": "ipython3",
   "version": "3.9.21"
  }
 },
 "nbformat": 4,
 "nbformat_minor": 5
}
