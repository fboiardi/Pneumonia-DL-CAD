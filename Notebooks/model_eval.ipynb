{
 "cells": [
  {
   "cell_type": "code",
   "execution_count": 1,
   "id": "121f8204-3452-4aa6-953f-d032bd449fd6",
   "metadata": {},
   "outputs": [],
   "source": [
    "import pandas as pd, numpy as np\n",
    "import matplotlib.pyplot as plt\n",
    "import seaborn as sns\n",
    "\n",
    "import torch, os\n",
    "import torch.nn.functional as F\n",
    "from torch.utils.data import Dataset, DataLoader\n",
    "from torchvision import transforms, models\n",
    "import torch.nn as nn\n",
    "from PIL import Image\n",
    "\n",
    "from scipy.stats import iqr, gaussian_kde, kruskal\n",
    "from scikit_posthocs import posthoc_dunn\n",
    "\n",
    "import nltk, string\n",
    "from nltk.tokenize import word_tokenize\n",
    "from nltk.corpus import stopwords\n",
    "from nltk.stem import WordNetLemmatizer\n",
    "from sklearn.feature_extraction.text import CountVectorizer, TfidfVectorizer\n",
    "from wordcloud import WordCloud"
   ]
  },
  {
   "cell_type": "code",
   "execution_count": null,
   "id": "ec9b0697",
   "metadata": {},
   "outputs": [],
   "source": [
    "# install corpora and models\n",
    "\n",
    "#nltk.download('punkt')\n",
    "#nltk.download('punkt_tab')\n",
    "#nltk.download('stopwords')\n",
    "#nltk.download('wordnet')"
   ]
  },
  {
   "cell_type": "markdown",
   "id": "380ecd2b-2f0a-4261-9860-a9fc33cc0ac8",
   "metadata": {},
   "source": [
    "# Uncertain and NaN LLM Pneumonia Labels in MIMIC-CXR"
   ]
  },
  {
   "cell_type": "code",
   "execution_count": 2,
   "id": "191cc439-8773-475a-99d3-0b19f89fb6a8",
   "metadata": {},
   "outputs": [],
   "source": [
    "def processed_file_name(img_path):\n",
    "    name = os.path.basename(img_path)\n",
    "    pre = os.path.dirname(img_path)\n",
    "\n",
    "    name = name.split('.')[0] + '.png' if not name.endswith('.png') else name\n",
    "    name = 'PROCESSED_' + name\n",
    "    return os.path.join(pre, name)"
   ]
  },
  {
   "cell_type": "code",
   "execution_count": 3,
   "id": "43aa4bf5-b054-472c-a82f-7aa24b570803",
   "metadata": {},
   "outputs": [],
   "source": [
    "mimic_meta = pd.read_csv('/Data/physionet.org/files/mimic-cxr-jpg/2.0.0/mimic-cxr-2.0.0-metadata-augmented-trimmed.csv')\n",
    "\n",
    "# only retain high-quality, frontal images\n",
    "def mimic_include(dicom_id):\n",
    "    row = mimic_meta[mimic_meta['dicom_id'] == dicom_id].iloc[0]\n",
    "    if row['CorrectedView'] == 'FRONTAL' and not row['QualityIssue'] and not row['GenderMismatch']:\n",
    "        return True\n",
    "    return False"
   ]
  },
  {
   "cell_type": "code",
   "execution_count": null,
   "id": "1b7e0652-ad6a-4c99-9002-86f8f631002d",
   "metadata": {},
   "outputs": [],
   "source": [
    "mimic_llm = pd.read_csv('/Data/physionet.org/files/mimic-cxr-jpg/2.0.0/mimic-cxr-pneumonia-full-wreports_llm_complete.csv')\n",
    "mimic_llm = mimic_llm[(mimic_llm.LLM_class == -1) | (mimic_llm.LLM_class.isna())]\n",
    "\n",
    "mimic_llm['Keep'] = mimic_llm['dicom_id'].apply(mimic_include)\n",
    "mimic_llm = mimic_llm[mimic_llm['Keep'] == True]\n",
    "\n",
    "mimic_llm\n",
    "#mimic_llm.to_csv('/Data/physionet.org/files/mimic-cxr-jpg/2.0.0/mimic-cxr-pneumonia-full-wreports_llm_uncertain+nan_frontal.csv', index=False)"
   ]
  },
  {
   "cell_type": "code",
   "execution_count": null,
   "id": "a8924581-12df-4a2a-a737-d2dae753d347",
   "metadata": {},
   "outputs": [],
   "source": [
    "# after processing\n",
    "\n",
    "mimic_llm = pd.read_csv('/Data/physionet.org/files/mimic-cxr-jpg/2.0.0/mimic-cxr-pneumonia-full-wreports_llm_uncertain+nan_frontal.csv')\n",
    "\n",
    "mimic_llm['Processed_Path'] = mimic_llm.Path.apply(processed_file_name)\n",
    "mimic_llm['Processed_Exists'] = mimic_llm['Processed_Path'].apply(os.path.isfile)\n",
    "mimic_llm = mimic_llm[mimic_llm['Processed_Exists'] == True]\n",
    "\n",
    "mimic_llm"
   ]
  },
  {
   "cell_type": "code",
   "execution_count": null,
   "id": "568cc35a-430d-4c14-a2aa-0286a9395ec0",
   "metadata": {},
   "outputs": [],
   "source": [
    "mimic_uncertain = mimic_llm[mimic_llm.LLM_class == -1][['Processed_Path', 'LLM_class']]\n",
    "mimic_nan = mimic_llm[mimic_llm.LLM_class.isna()][['Processed_Path', 'LLM_class']]\n",
    "\n",
    "mimic_uncertain.rename(columns={'Processed_Path': 'Path',\n",
    "                                'LLM_class': 'Label'}, inplace=True)\n",
    "mimic_nan.rename(columns={'Processed_Path': 'Path',\n",
    "                          'LLM_class': 'Label'}, inplace=True)\n",
    "\n",
    "mimic_uncertain"
   ]
  },
  {
   "cell_type": "markdown",
   "id": "1358ed9e-c5dc-4031-a14f-b88fa63286b0",
   "metadata": {},
   "source": [
    "# Positive & Negative Test Set Labels"
   ]
  },
  {
   "cell_type": "code",
   "execution_count": null,
   "id": "a6b83106-5974-4c63-bead-883503126c87",
   "metadata": {},
   "outputs": [],
   "source": [
    "mimic_test = pd.read_csv('/Data/physionet.org/files/mimic-cxr-jpg/2.0.0/test_llm.csv')\n",
    "mimic_test"
   ]
  },
  {
   "cell_type": "code",
   "execution_count": null,
   "id": "b04061fc-6b7a-4d89-9f4a-96fe6e3273d2",
   "metadata": {},
   "outputs": [],
   "source": [
    "mimic_positive = mimic_test[mimic_test['Label'] == 1]\n",
    "mimic_negative = mimic_test[mimic_test['Label'] == 0]"
   ]
  },
  {
   "cell_type": "markdown",
   "id": "eb8f6692-78e0-4fc7-9440-269c3dc54754",
   "metadata": {},
   "source": [
    "# Inference"
   ]
  },
  {
   "cell_type": "code",
   "execution_count": 7,
   "id": "b6ebff87-1e70-4c59-8f28-a572191965d1",
   "metadata": {},
   "outputs": [],
   "source": [
    "class PneumoniaDataset(Dataset):\n",
    "    def __init__(self, df, transform=None):\n",
    "        \"\"\"\n",
    "        df: DataFrame with columns 'Path' (to CXRs) and 'Label' (pneumonia +/-)\n",
    "        transform: transforms to apply to CXRs\n",
    "        \"\"\"\n",
    "        self.df = df.reset_index(drop=True)\n",
    "        self.transform = transform\n",
    "    \n",
    "    def __len__(self):\n",
    "        return len(self.df)\n",
    "    \n",
    "    def __getitem__(self, idx):\n",
    "        row = self.df.iloc[idx]\n",
    "        img_path,label = row['Path'],row['Label']\n",
    "\n",
    "        image = Image.open(img_path).convert('RGB')\n",
    "\n",
    "        if self.transform:\n",
    "            image = self.transform(image)\n",
    "        \n",
    "        return image, label\n",
    "\n",
    "def evaluate(model, loader):\n",
    "    model.eval()\n",
    "    all_probs = []\n",
    "    \n",
    "    with torch.no_grad():\n",
    "        for images,_ in loader:\n",
    "            images = images.to(device)\n",
    "            \n",
    "            outputs = model(images)\n",
    "            probs = F.softmax(outputs, dim=1)[:, 1] # probabilities for pneumonia-positive class\n",
    "            \n",
    "            all_probs.extend(probs.cpu().numpy())\n",
    "    \n",
    "    return all_probs"
   ]
  },
  {
   "cell_type": "code",
   "execution_count": 8,
   "id": "eda8ebcc-a70a-45e0-9ab3-61aaa40e03e7",
   "metadata": {},
   "outputs": [],
   "source": [
    "test_transforms = transforms.Compose([\n",
    "    transforms.Resize((480, 480)),\n",
    "    transforms.ToTensor(),\n",
    "    transforms.Normalize(mean=[.485, .456, .406],\n",
    "                         std=[.229, .224, .225]) # ImageNet vals\n",
    "])"
   ]
  },
  {
   "cell_type": "code",
   "execution_count": 9,
   "id": "494fb44a-99ae-44c8-adfa-f7ecfb163d1e",
   "metadata": {},
   "outputs": [],
   "source": [
    "positive_data = PneumoniaDataset(mimic_positive, transform=test_transforms)\n",
    "positive_loader = DataLoader(positive_data, batch_size=32, shuffle=False, num_workers=4)\n",
    "\n",
    "negative_data = PneumoniaDataset(mimic_negative, transform=test_transforms)\n",
    "negative_loader = DataLoader(negative_data, batch_size=32, shuffle=False, num_workers=4)\n",
    "\n",
    "uncertain_data = PneumoniaDataset(mimic_uncertain, transform=test_transforms)\n",
    "uncertain_loader = DataLoader(uncertain_data, batch_size=32, shuffle=False, num_workers=4)\n",
    "\n",
    "nan_data = PneumoniaDataset(mimic_nan, transform=test_transforms)\n",
    "nan_loader = DataLoader(nan_data, batch_size=32, shuffle=False, num_workers=4)"
   ]
  },
  {
   "cell_type": "code",
   "execution_count": 10,
   "id": "ed48cc6c-cecd-4d79-825b-b38c9f30425c",
   "metadata": {},
   "outputs": [],
   "source": [
    "device = torch.device('cuda' if torch.cuda.is_available() else 'cpu')\n",
    "model = models.densenet121(weights=None)\n",
    "\n",
    "model.classifier = nn.Sequential(\n",
    "    nn.Linear(model.classifier.in_features, 512), \n",
    "    nn.ReLU(), \n",
    "    nn.BatchNorm1d(512), \n",
    "    nn.Dropout(p=.3),\n",
    "    nn.Linear(512, 2)\n",
    ")\n",
    "\n",
    "model.load_state_dict(torch.load('/Data/mimic_llm_model.pth', weights_only=True))\n",
    "model = model.to(device)"
   ]
  },
  {
   "cell_type": "code",
   "execution_count": 22,
   "id": "a17e4b3f-f9c3-462f-b9d3-a00bf36c931b",
   "metadata": {},
   "outputs": [],
   "source": [
    "# pneumonia probabilities for each class in the MIMIC-CXR test set\n",
    "\n",
    "positive_preds = evaluate(model, positive_loader)\n",
    "negative_preds = evaluate(model, negative_loader)\n",
    "uncertain_preds = evaluate(model, uncertain_loader)\n",
    "nan_preds = evaluate(model, nan_loader)"
   ]
  },
  {
   "cell_type": "code",
   "execution_count": 24,
   "id": "2d006284-e83d-482e-9518-1fd96771e8a7",
   "metadata": {},
   "outputs": [],
   "source": [
    "# convert to %\n",
    "\n",
    "positive_preds = list(np.array(positive_preds) * 100)\n",
    "negative_preds = list(np.array(negative_preds) * 100)\n",
    "uncertain_preds = list(np.array(uncertain_preds) * 100)\n",
    "nan_preds = list(np.array(nan_preds) * 100)"
   ]
  },
  {
   "cell_type": "code",
   "execution_count": null,
   "id": "1ce347f0-0c5c-4dd6-a403-b3c56eee4790",
   "metadata": {},
   "outputs": [],
   "source": [
    "dic = {'Prob': positive_preds+negative_preds+uncertain_preds+nan_preds,\n",
    "       'Label': ['Positive' for _ in range(len(positive_preds))] + ['Negative' for _ in range(len(negative_preds))] + ['Uncertain' for _ in range(len(uncertain_preds))] + ['NoLabel' for _ in range(len(nan_preds))]\n",
    "      } \n",
    "\n",
    "data = pd.DataFrame(dic)\n",
    "data\n",
    "\n",
    "#data.to_csv('/Data/physionet.org/files/mimic-cxr-jpg/2.0.0/test_label_confidence.csv', index=False)"
   ]
  },
  {
   "cell_type": "markdown",
   "id": "fc1d9583",
   "metadata": {},
   "source": [
    "# Visualisation"
   ]
  },
  {
   "cell_type": "code",
   "execution_count": null,
   "id": "82fb34be-f436-4a07-be55-5f5401d6db53",
   "metadata": {},
   "outputs": [],
   "source": [
    "data = pd.read_csv('/Data/physionet.org/files/mimic-cxr-jpg/2.0.0/test_label_confidence.csv')\n",
    "data"
   ]
  },
  {
   "cell_type": "code",
   "execution_count": null,
   "id": "29875c38-bf2b-470b-b1f8-a522eb44d79b",
   "metadata": {},
   "outputs": [],
   "source": [
    "positive_preds = data[data.Label == 'Positive'].Prob\n",
    "negative_preds = data[data.Label == 'Negative'].Prob\n",
    "uncertain_preds = data[data.Label == 'Uncertain'].Prob\n",
    "nan_preds = data[data.Label == 'NoLabel'].Prob"
   ]
  },
  {
   "cell_type": "code",
   "execution_count": 8,
   "id": "fe0edf3e-b269-4d1b-b046-7872cf9cbf96",
   "metadata": {},
   "outputs": [],
   "source": [
    "# ridgeline plot of predicted pneumonia probabilities for each class using KDE curves\n",
    "\n",
    "def ridge_plot(data, overlap=0, stats=True, fill=[], labels=[], title=''):\n",
    "    fig, ax = plt.subplots(nrows=1, figsize=(8,5))\n",
    "    \n",
    "    xx = np.linspace(np.min(np.concatenate(data)), np.max(np.concatenate(data)), 5000)\n",
    "    ys = []\n",
    "    \n",
    "    for i,d in enumerate(data):\n",
    "        pdf = gaussian_kde(d)\n",
    "        y = i*(1-overlap)\n",
    "        ys.append(y)\n",
    "        curve = pdf(xx)\n",
    "\n",
    "        ax.plot(xx, curve+y, c='k', zorder=len(data)-i+1)\n",
    "\n",
    "        if fill:\n",
    "            ax.fill_between(xx, np.ones(5000)*y, curve+y, zorder=len(data)-i+1, color=fill[i], alpha=.5)\n",
    "        if stats:\n",
    "            med = np.median(d)\n",
    "            iqr_val = iqr(d)\n",
    "\n",
    "            # asymmetric error bars such that they don't go beyond 0-100%\n",
    "            left_err = med - max(med - iqr_val, 0)\n",
    "            right_err = min(med + iqr_val, 100) - med\n",
    "            \n",
    "            ax.scatter(med, max(curve+y), color=fill[i] if fill else 'k', label=f'{labels[i]} median: {round(med,3)}')\n",
    "            ax.errorbar(med, max(curve+y), xerr=[[left_err], [right_err]], color=fill[i] if fill else 'k', capsize=3)\n",
    "\n",
    "    if labels:\n",
    "        ax.set_yticks(ys, labels)\n",
    "\n",
    "    if title:\n",
    "        ax.set_title(title)"
   ]
  },
  {
   "cell_type": "code",
   "execution_count": null,
   "id": "e1350332-f70c-4f4a-b725-84598084a20a",
   "metadata": {},
   "outputs": [],
   "source": [
    "plt.style.use('ggplot')\n",
    "\n",
    "ridge_plot([negative_preds, nan_preds, uncertain_preds, positive_preds],\n",
    "           overlap=.97,\n",
    "           fill=['#019959', '#eb4fa9', '#ffce50', '#0296dc'],\n",
    "           labels=[f'Negative\\n(N={len(negative_preds)})', f'N/A\\n(N={len(nan_preds):,})', f'Uncertain\\n(N={len(uncertain_preds):,})', f'Positive\\n(N={len(positive_preds)})'],\n",
    "           title='Model Confidence in Pneumonia Stratified by Ground Truth')\n",
    "\n",
    "plt.savefig('/Data/Figures/ridge_plot.svg')"
   ]
  },
  {
   "cell_type": "code",
   "execution_count": null,
   "id": "7f02ae4f-ef97-4c07-a0c6-1312de1378fc",
   "metadata": {},
   "outputs": [],
   "source": [
    "print(f'Positive median, IQR: {np.median(positive_preds):.2f}, {iqr(positive_preds):.2f}')\n",
    "print(f'Negative median, IQR: {np.median(negative_preds):.2f}, {iqr(negative_preds):.2f}')\n",
    "print(f'Uncertain median, IQR: {np.median(uncertain_preds):.2f}, {iqr(uncertain_preds):.2f}')\n",
    "print(f'N/A median, IQR: {np.median(nan_preds):.2f}, {iqr(nan_preds):.2f}')"
   ]
  },
  {
   "cell_type": "markdown",
   "id": "a65eacac",
   "metadata": {},
   "source": [
    "# Significant Differences in Confidence"
   ]
  },
  {
   "cell_type": "code",
   "execution_count": null,
   "id": "6ec10863-a29c-4b4e-8a2d-3468819e8ded",
   "metadata": {},
   "outputs": [],
   "source": [
    "# at least one sig diff\n",
    "_, p_value = kruskal(positive_preds, negative_preds, uncertain_preds, nan_preds)\n",
    "print(f'P = {p_value}')\n",
    "\n",
    "# pairwise\n",
    "if p_value < .01:\n",
    "    posthoc_results = posthoc_dunn([positive_preds, negative_preds, uncertain_preds, nan_preds], p_adjust='bonferroni')\n",
    "    print(posthoc_results)"
   ]
  },
  {
   "cell_type": "markdown",
   "id": "a284f08c-270d-4f20-8b42-63df4c452174",
   "metadata": {},
   "source": [
    "# Error Analysis"
   ]
  },
  {
   "cell_type": "code",
   "execution_count": 15,
   "id": "203a416f-efc6-45eb-b8e3-dd50fda83d2a",
   "metadata": {},
   "outputs": [],
   "source": [
    "# preprocess radiology report text\n",
    "\n",
    "def preprocess_text(text):\n",
    "    text = text.lower()\n",
    "    text = text.translate(str.maketrans('', '', string.punctuation)) # remove punctuation\n",
    "    \n",
    "    tokens = word_tokenize(text) # tokenisation\n",
    "    filtered_tokens = [t for t in tokens if t not in stopwords.words('english')] # remove stopwords\n",
    "    \n",
    "    lemmatiser = WordNetLemmatizer() # lemmatisation\n",
    "    lemmatised_tokens = [lemmatiser.lemmatize(t) for t in filtered_tokens]\n",
    "    \n",
    "    return ' '.join(lemmatised_tokens)"
   ]
  },
  {
   "cell_type": "code",
   "execution_count": null,
   "id": "2718cf29-49ec-410a-8dca-de05d0531dc5",
   "metadata": {},
   "outputs": [],
   "source": [
    "# reports\n",
    "mimic_llm = pd.read_csv('/Data/physionet.org/files/mimic-cxr-jpg/2.0.0/mimic-cxr-pneumonia-full-wreports_llm_complete.csv')\n",
    "mimic_llm['Processed_Path'] = mimic_llm.Path.apply(processed_file_name)\n",
    "\n",
    "# separate pneumonia-positive cases into true-positives and false-negatives, assuming the default classification threshold of 50%\n",
    "mimic_positive['Prob'] = positive_preds\n",
    "false_negative_paths = mimic_positive[mimic_positive.Prob < 50].Path.tolist()\n",
    "false_negative_reports = mimic_llm[mimic_llm.Processed_Path.isin(false_negative_paths)].Report\n",
    "\n",
    "true_positive_paths = mimic_positive[mimic_positive.Prob >= 50].Path.tolist()\n",
    "true_positive_reports = mimic_llm[mimic_llm.Processed_Path.isin(true_positive_paths)].Report"
   ]
  },
  {
   "cell_type": "code",
   "execution_count": null,
   "id": "30fa680b-c949-4cbd-b6f1-0d746bb5dd5d",
   "metadata": {},
   "outputs": [],
   "source": [
    "# n-gram analysis\n",
    "\n",
    "processed_negative_reports = [preprocess_text(report) for report in false_negative_reports]\n",
    "processed_positive_reports = [preprocess_text(report) for report in true_positive_reports]\n",
    "\n",
    "vectoriser = CountVectorizer(ngram_range=(2, 4))  # bigrams, trigrams, and quadrigrams\n",
    "X = vectoriser.fit_transform(processed_negative_reports)\n",
    "\n",
    "words = vectoriser.get_feature_names_out()\n",
    "word_freq = X.toarray().sum(axis=0)\n",
    "\n",
    "freq_dict = dict(zip(words, word_freq))\n",
    "\n",
    "sorted(freq_dict.items(), key=lambda x : x[1], reverse=True)"
   ]
  },
  {
   "cell_type": "code",
   "execution_count": null,
   "id": "4ff93ac7-be57-4799-8724-d013f3603390",
   "metadata": {},
   "outputs": [],
   "source": [
    "# wordcloud of false-negative n-grams\n",
    "\n",
    "wordcloud = WordCloud(width=800, height=400, background_color='white')\n",
    "wordcloud.generate_from_frequencies(freq_dict)\n",
    "\n",
    "plt.figure(figsize=(15, 7.5))\n",
    "plt.imshow(wordcloud, interpolation='bilinear')\n",
    "plt.axis('off')"
   ]
  },
  {
   "cell_type": "code",
   "execution_count": null,
   "id": "17a5ee1f-8ff7-489c-a558-dab2c08877c7",
   "metadata": {},
   "outputs": [],
   "source": [
    "# combine collections for vectorisation\n",
    "all_reports = processed_negative_reports + processed_positive_reports\n",
    "\n",
    "tfidf = TfidfVectorizer(ngram_range=(2, 4), stop_words='english')\n",
    "tfidf_matrix = tfidf.fit_transform(all_reports)\n",
    "feature_names = tfidf.get_feature_names_out()\n",
    "\n",
    "# average TF-IDF for false-negatives and true-positives\n",
    "false_negative_tfidf = tfidf_matrix[:len(processed_negative_reports)].toarray().mean(axis=0)\n",
    "true_positive_tfidf = tfidf_matrix[len(processed_positive_reports):].toarray().mean(axis=0)\n",
    "\n",
    "# terms more common in false-negative reports than true-positive\n",
    "diff = false_negative_tfidf - true_positive_tfidf\n",
    "important_terms_indices = np.argsort(diff)[-10:]  # top 10\n",
    "important_terms = [feature_names[i] for i in important_terms_indices]\n",
    "print('False negative terms:', important_terms)"
   ]
  },
  {
   "cell_type": "markdown",
   "id": "779f775f-6d21-4224-aceb-5dcde6a46cd7",
   "metadata": {},
   "source": [
    "# Test Set Performance per Dataset"
   ]
  },
  {
   "cell_type": "code",
   "execution_count": null,
   "id": "7842f2cf-2809-4600-b203-2141e83238f7",
   "metadata": {},
   "outputs": [],
   "source": [
    "# model performance for all 6 datasets across 9 runs\n",
    "# columns: Dataset, Metric (Precision/Recall/F1/AUC), Val (% Metric value)\n",
    "\n",
    "df = pd.read_csv('/Data/dataset_performances.csv')\n",
    "df"
   ]
  },
  {
   "cell_type": "code",
   "execution_count": null,
   "id": "6719cf6e-a08f-405b-8511-64c96a237064",
   "metadata": {},
   "outputs": [],
   "source": [
    "fig, ax = plt.subplots(nrows=1, figsize=(10,6))\n",
    "\n",
    "palette = {'Precision': '#019959', 'Sensitivity': '#eb4fa9', 'F1': '#ffce50', 'AUC': '#0296dc'}\n",
    "sns.boxplot(data=df, x='Dataset', y='Val', hue='Metric', palette=palette, saturation=1, ax=ax)\n",
    "\n",
    "ax.set_ylabel('% Performance')\n",
    "ax.legend(title='Metric', facecolor='white')\n",
    "\n",
    "ax.set_title('Model Performance Stratified by Dataset')\n",
    "\n",
    "plt.savefig('/Data/Figures/dataset_performance.svg')"
   ]
  }
 ],
 "metadata": {
  "kernelspec": {
   "display_name": "Python 3 (ipykernel)",
   "language": "python",
   "name": "python3"
  },
  "language_info": {
   "codemirror_mode": {
    "name": "ipython",
    "version": 3
   },
   "file_extension": ".py",
   "mimetype": "text/x-python",
   "name": "python",
   "nbconvert_exporter": "python",
   "pygments_lexer": "ipython3",
   "version": "3.9.21"
  }
 },
 "nbformat": 4,
 "nbformat_minor": 5
}
